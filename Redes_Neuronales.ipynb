{
  "nbformat": 4,
  "nbformat_minor": 0,
  "metadata": {
    "colab": {
      "provenance": [],
      "authorship_tag": "ABX9TyOPnkBOYXpRvJbdiVoptw1l",
      "include_colab_link": true
    },
    "kernelspec": {
      "name": "python3",
      "display_name": "Python 3"
    },
    "language_info": {
      "name": "python"
    }
  },
  "cells": [
    {
      "cell_type": "markdown",
      "metadata": {
        "id": "view-in-github",
        "colab_type": "text"
      },
      "source": [
        "<a href=\"https://colab.research.google.com/github/jesicagimenez94/Python_Data_Science/blob/master/Redes_Neuronales.ipynb\" target=\"_parent\"><img src=\"https://colab.research.google.com/assets/colab-badge.svg\" alt=\"Open In Colab\"/></a>"
      ]
    },
    {
      "cell_type": "markdown",
      "source": [
        "Creamos una red neuronal con python y tensorflow.\n",
        "Le damos parametros de entradas y los resultados de salida, la red debe aprender por si sola cual es el algoritmo o calculo necesario para llegar a los resultados."
      ],
      "metadata": {
        "id": "MCeqJSZSTyM7"
      }
    },
    {
      "cell_type": "code",
      "execution_count": 1,
      "metadata": {
        "id": "QHXK0ZX0SECz"
      },
      "outputs": [],
      "source": [
        "import tensorflow as tf\n",
        "import numpy as np"
      ]
    },
    {
      "cell_type": "markdown",
      "source": [
        "datos de entrada y resultados que va utilizar la red para aprender."
      ],
      "metadata": {
        "id": "7yvsA956TT-_"
      }
    },
    {
      "cell_type": "code",
      "source": [
        "celsius = np.array([-40,-10,0,8,15,22,38], dtype=float)\n",
        "fahrenheit= np.array([-40,14,32,46,59,72,100], dtype=float)"
      ],
      "metadata": {
        "id": "AE5Dxy3pSXu1"
      },
      "execution_count": 10,
      "outputs": []
    },
    {
      "cell_type": "markdown",
      "source": [
        "Armamos el modelo:\n",
        "creamos una variable capa de tipo densa, tienen conexiones desde 1 neurona a cada neurona de las demas capas."
      ],
      "metadata": {
        "id": "vsOj6MLtWMcJ"
      }
    },
    {
      "cell_type": "code",
      "source": [
        "#capa = tf.keras.layers.Dense(units=1, input_shape=[1])\n",
        "#modelo = tf.keras.Sequential([capa])\n",
        "\n",
        "#Probamos creando mas capas si mejora la prediccion del modelo.\n",
        "\n",
        "oculta1=tf.keras.layers.Dense(units=3, input_shape=[1])\n",
        "oculta2=tf.keras.layers.Dense(units=3)\n",
        "salida=tf.keras.layers.Dense(units=1)\n",
        "modelo = tf.keras.Sequential([oculta1,oculta2,salida])"
      ],
      "metadata": {
        "id": "9SHx5bVaTKJV"
      },
      "execution_count": 25,
      "outputs": []
    },
    {
      "cell_type": "markdown",
      "source": [
        "Aprendizaje:\n",
        "\n",
        "optimizador (Adam): le dice como ajustar los sesgos para que aprenda y no desaprenda.\n",
        " y funcion de perdida(mean_squared_error)"
      ],
      "metadata": {
        "id": "5D5GiE3DW8Rr"
      }
    },
    {
      "cell_type": "code",
      "source": [
        "modelo.compile(\n",
        "    optimizer = tf.keras.optimizers.Adam(0.1),\n",
        "    loss='mean_squared_error'\n",
        ")"
      ],
      "metadata": {
        "id": "bnPoNwG8XB7h"
      },
      "execution_count": 26,
      "outputs": []
    },
    {
      "cell_type": "markdown",
      "source": [
        "funcion fit para entrenar asi que le ponemos 1000 vueltas de verificacion"
      ],
      "metadata": {
        "id": "9JoH6krtZA5s"
      }
    },
    {
      "cell_type": "code",
      "source": [
        "print(\"comenzando entrenamiento... \")\n",
        "historial= modelo.fit(celsius, fahrenheit, epochs=1000, verbose=False)\n",
        "print(\"modelo entrenado!\")"
      ],
      "metadata": {
        "colab": {
          "base_uri": "https://localhost:8080/"
        },
        "id": "voEjMZhbZl5N",
        "outputId": "383aa220-225b-43d9-b627-d11834534905"
      },
      "execution_count": 27,
      "outputs": [
        {
          "output_type": "stream",
          "name": "stdout",
          "text": [
            "comenzando entrenamiento... \n",
            "modelo entrenado!\n"
          ]
        }
      ]
    },
    {
      "cell_type": "markdown",
      "source": [
        "Grafico para ver como va mejorando el aprendizaje a medida que va dando cada vuelta."
      ],
      "metadata": {
        "id": "q-JD4dSfdLfi"
      }
    },
    {
      "cell_type": "code",
      "source": [
        "import matplotlib.pyplot as plt\n",
        "plt.xlabel(\"# Epoca\")\n",
        "plt.ylabel(\"Magnitud de perdida\")\n",
        "plt.plot(historial.history[\"loss\"])"
      ],
      "metadata": {
        "colab": {
          "base_uri": "https://localhost:8080/",
          "height": 466
        },
        "id": "LGmKtob1b6Cb",
        "outputId": "f6926531-9587-4ad2-80d0-30e7f9b0091f"
      },
      "execution_count": 28,
      "outputs": [
        {
          "output_type": "execute_result",
          "data": {
            "text/plain": [
              "[<matplotlib.lines.Line2D at 0x7f5abb6963e0>]"
            ]
          },
          "metadata": {},
          "execution_count": 28
        },
        {
          "output_type": "display_data",
          "data": {
            "text/plain": [
              "<Figure size 640x480 with 1 Axes>"
            ],
            "image/png": "[encoded data removed]"
          },
          "metadata": {}
        }
      ]
    },
    {
      "cell_type": "markdown",
      "source": [
        "vemos el resultado del modelo cuanto se acerca la prediccion"
      ],
      "metadata": {
        "id": "JLHXgWd1ejvi"
      }
    },
    {
      "cell_type": "code",
      "source": [
        "print(\"Hagamos una prediccion!\")\n",
        "resultado = modelo.predict([100.0])\n",
        "print(\"El resulatdo es \"+str(resultado)+\" Fahrenheit!\")\n"
      ],
      "metadata": {
        "colab": {
          "base_uri": "https://localhost:8080/"
        },
        "id": "270EwRoIdbBC",
        "outputId": "1238ab72-b52e-460b-be61-c0b081885b7d"
      },
      "execution_count": 30,
      "outputs": [
        {
          "output_type": "stream",
          "name": "stdout",
          "text": [
            "Hagamos una prediccion!\n",
            "1/1 [==============================] - 0s 45ms/step\n",
            "El resulatdo es [[211.74745]] Fahrenheit!\n"
          ]
        }
      ]
    },
    {
      "cell_type": "markdown",
      "source": [
        "aca vemos como trabaja el modelo se realizo el calculo: 100 * 1.79 + 31.9 = 211"
      ],
      "metadata": {
        "id": "LXjPFUtafQqB"
      }
    },
    {
      "cell_type": "code",
      "source": [
        "print(\"Variables internas del modelo\")\n",
        "#print(capa.get_weights())\n",
        "\n",
        "print(oculta1.get_weights())\n",
        "print(oculta2.get_weights())\n",
        "print(salida.get_weights())"
      ],
      "metadata": {
        "colab": {
          "base_uri": "https://localhost:8080/"
        },
        "id": "MBRlA3s6ewe6",
        "outputId": "5c700424-7479-4757-afea-9500f216c1a1"
      },
      "execution_count": 32,
      "outputs": [
        {
          "output_type": "stream",
          "name": "stdout",
          "text": [
            "Variables internas del modelo\n",
            "[array([[-0.15174985, -0.03500608, -1.0409569 ]], dtype=float32), array([ 3.8521433,  2.766846 , -4.2544813], dtype=float32)]\n",
            "[array([[-0.20718692,  1.7162627 , -0.05289026],\n",
            "       [ 0.19441417,  0.8538151 ,  0.22158186],\n",
            "       [ 0.81640124, -1.1143177 , -1.0689074 ]], dtype=float32), array([-2.1634912,  4.499205 ,  2.4892464], dtype=float32)]\n",
            "[array([[-0.28252414],\n",
            "       [ 1.2672564 ],\n",
            "       [ 0.41580358]], dtype=float32), array([4.1088495], dtype=float32)]\n"
          ]
        }
      ]
    }
  ]
}
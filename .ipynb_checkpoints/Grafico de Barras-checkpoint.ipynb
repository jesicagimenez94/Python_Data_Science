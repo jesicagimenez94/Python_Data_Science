{
 "cells": [
  {
   "cell_type": "code",
   "execution_count": 1,
   "metadata": {},
   "outputs": [],
   "source": [
    "import pandas as pd"
   ]
  },
  {
   "cell_type": "code",
   "execution_count": 2,
   "metadata": {},
   "outputs": [
    {
     "name": "stdout",
     "output_type": "stream",
     "text": [
      "['Datos', 'Productos']\n"
     ]
    }
   ],
   "source": [
    "data=pd.ExcelFile(r'C:\\Users\\jesica\\Downloads\\Ventas+2010+-+copia.xlsx', engine='openpyxl') #agrego el archivo excel\n",
    "print(data.sheet_names)"
   ]
  },
  {
   "cell_type": "code",
   "execution_count": 3,
   "metadata": {},
   "outputs": [],
   "source": [
    "DataFrame=data.parse('Datos')"
   ]
  },
  {
   "cell_type": "code",
   "execution_count": 5,
   "metadata": {},
   "outputs": [
    {
     "data": {
      "text/html": [
       "<div>\n",
       "<style scoped>\n",
       "    .dataframe tbody tr th:only-of-type {\n",
       "        vertical-align: middle;\n",
       "    }\n",
       "\n",
       "    .dataframe tbody tr th {\n",
       "        vertical-align: top;\n",
       "    }\n",
       "\n",
       "    .dataframe thead th {\n",
       "        text-align: right;\n",
       "    }\n",
       "</style>\n",
       "<table border=\"1\" class=\"dataframe\">\n",
       "  <thead>\n",
       "    <tr style=\"text-align: right;\">\n",
       "      <th></th>\n",
       "      <th>SKU</th>\n",
       "      <th>ID fila</th>\n",
       "      <th>ID Orden</th>\n",
       "      <th>Fecha Orden</th>\n",
       "      <th>Prioridad</th>\n",
       "      <th>Cantidad</th>\n",
       "      <th>Ventas</th>\n",
       "      <th>Descuento</th>\n",
       "      <th>Tipo de Envío</th>\n",
       "      <th>Ganancia</th>\n",
       "      <th>...</th>\n",
       "      <th>Nombre del Cliente</th>\n",
       "      <th>Provincia</th>\n",
       "      <th>Región</th>\n",
       "      <th>Segmento del Cliente</th>\n",
       "      <th>Categoría de producto</th>\n",
       "      <th>Fecha de envío</th>\n",
       "      <th>Unnamed: 18</th>\n",
       "      <th>Unnamed: 19</th>\n",
       "      <th>Unnamed: 20</th>\n",
       "      <th>Unnamed: 21</th>\n",
       "    </tr>\n",
       "  </thead>\n",
       "  <tbody>\n",
       "    <tr>\n",
       "      <th>0</th>\n",
       "      <td>1</td>\n",
       "      <td>1</td>\n",
       "      <td>3</td>\n",
       "      <td>2010-10-13</td>\n",
       "      <td>Bajo</td>\n",
       "      <td>6</td>\n",
       "      <td>261.5400</td>\n",
       "      <td>0.04</td>\n",
       "      <td>Aereo Regular</td>\n",
       "      <td>-213.2500</td>\n",
       "      <td>...</td>\n",
       "      <td>Muhammed MacIntyre</td>\n",
       "      <td>Nunavut</td>\n",
       "      <td>Nunavut</td>\n",
       "      <td>PYME</td>\n",
       "      <td>Árticulos de Oficina</td>\n",
       "      <td>2010-10-20</td>\n",
       "      <td>NaN</td>\n",
       "      <td>NaN</td>\n",
       "      <td>NaN</td>\n",
       "      <td>NaN</td>\n",
       "    </tr>\n",
       "    <tr>\n",
       "      <th>1</th>\n",
       "      <td>2</td>\n",
       "      <td>49</td>\n",
       "      <td>293</td>\n",
       "      <td>2012-10-01</td>\n",
       "      <td>Alto</td>\n",
       "      <td>49</td>\n",
       "      <td>10123.0200</td>\n",
       "      <td>0.07</td>\n",
       "      <td>Terrestre</td>\n",
       "      <td>457.8100</td>\n",
       "      <td>...</td>\n",
       "      <td>Barry French</td>\n",
       "      <td>Nunavut</td>\n",
       "      <td>Nunavut</td>\n",
       "      <td>Consumidor</td>\n",
       "      <td>Árticulos de Oficina</td>\n",
       "      <td>2012-10-02</td>\n",
       "      <td>NaN</td>\n",
       "      <td>NaN</td>\n",
       "      <td>NaN</td>\n",
       "      <td>NaN</td>\n",
       "    </tr>\n",
       "    <tr>\n",
       "      <th>2</th>\n",
       "      <td>3</td>\n",
       "      <td>50</td>\n",
       "      <td>293</td>\n",
       "      <td>2012-10-01</td>\n",
       "      <td>Alto</td>\n",
       "      <td>27</td>\n",
       "      <td>244.5700</td>\n",
       "      <td>0.01</td>\n",
       "      <td>Aereo Regular</td>\n",
       "      <td>46.7075</td>\n",
       "      <td>...</td>\n",
       "      <td>Barry French</td>\n",
       "      <td>Nunavut</td>\n",
       "      <td>Nunavut</td>\n",
       "      <td>Consumidor</td>\n",
       "      <td>Árticulos de Oficina</td>\n",
       "      <td>2012-10-03</td>\n",
       "      <td>NaN</td>\n",
       "      <td>NaN</td>\n",
       "      <td>NaN</td>\n",
       "      <td>NaN</td>\n",
       "    </tr>\n",
       "    <tr>\n",
       "      <th>3</th>\n",
       "      <td>4</td>\n",
       "      <td>80</td>\n",
       "      <td>483</td>\n",
       "      <td>2011-07-10</td>\n",
       "      <td>Alto</td>\n",
       "      <td>30</td>\n",
       "      <td>4965.7595</td>\n",
       "      <td>0.08</td>\n",
       "      <td>Aereo Regular</td>\n",
       "      <td>1198.9710</td>\n",
       "      <td>...</td>\n",
       "      <td>Clay Rozendal</td>\n",
       "      <td>Nunavut</td>\n",
       "      <td>Nunavut</td>\n",
       "      <td>Corporativo</td>\n",
       "      <td>Tecnología</td>\n",
       "      <td>2011-07-12</td>\n",
       "      <td>NaN</td>\n",
       "      <td>NaN</td>\n",
       "      <td>NaN</td>\n",
       "      <td>NaN</td>\n",
       "    </tr>\n",
       "    <tr>\n",
       "      <th>4</th>\n",
       "      <td>5</td>\n",
       "      <td>85</td>\n",
       "      <td>515</td>\n",
       "      <td>2010-08-28</td>\n",
       "      <td>No Especificado</td>\n",
       "      <td>19</td>\n",
       "      <td>394.2700</td>\n",
       "      <td>0.08</td>\n",
       "      <td>Aereo Regular</td>\n",
       "      <td>30.9400</td>\n",
       "      <td>...</td>\n",
       "      <td>Carlos Soltero</td>\n",
       "      <td>Nunavut</td>\n",
       "      <td>Nunavut</td>\n",
       "      <td>Consumidor</td>\n",
       "      <td>Árticulos de Oficina</td>\n",
       "      <td>2010-08-30</td>\n",
       "      <td>NaN</td>\n",
       "      <td>NaN</td>\n",
       "      <td>NaN</td>\n",
       "      <td>NaN</td>\n",
       "    </tr>\n",
       "  </tbody>\n",
       "</table>\n",
       "<p>5 rows × 22 columns</p>\n",
       "</div>"
      ],
      "text/plain": [
       "   SKU  ID fila  ID Orden Fecha Orden        Prioridad  Cantidad      Ventas  \\\n",
       "0    1        1         3  2010-10-13             Bajo         6    261.5400   \n",
       "1    2       49       293  2012-10-01             Alto        49  10123.0200   \n",
       "2    3       50       293  2012-10-01             Alto        27    244.5700   \n",
       "3    4       80       483  2011-07-10             Alto        30   4965.7595   \n",
       "4    5       85       515  2010-08-28  No Especificado        19    394.2700   \n",
       "\n",
       "   Descuento  Tipo de Envío   Ganancia  ...  Nombre del Cliente  Provincia  \\\n",
       "0       0.04  Aereo Regular  -213.2500  ...  Muhammed MacIntyre    Nunavut   \n",
       "1       0.07      Terrestre   457.8100  ...        Barry French    Nunavut   \n",
       "2       0.01  Aereo Regular    46.7075  ...        Barry French    Nunavut   \n",
       "3       0.08  Aereo Regular  1198.9710  ...       Clay Rozendal    Nunavut   \n",
       "4       0.08  Aereo Regular    30.9400  ...      Carlos Soltero    Nunavut   \n",
       "\n",
       "    Región Segmento del Cliente Categoría de producto Fecha de envío  \\\n",
       "0  Nunavut                 PYME  Árticulos de Oficina     2010-10-20   \n",
       "1  Nunavut           Consumidor  Árticulos de Oficina     2012-10-02   \n",
       "2  Nunavut           Consumidor  Árticulos de Oficina     2012-10-03   \n",
       "3  Nunavut          Corporativo            Tecnología     2011-07-12   \n",
       "4  Nunavut           Consumidor  Árticulos de Oficina     2010-08-30   \n",
       "\n",
       "  Unnamed: 18 Unnamed: 19  Unnamed: 20  Unnamed: 21  \n",
       "0         NaN         NaN          NaN          NaN  \n",
       "1         NaN         NaN          NaN          NaN  \n",
       "2         NaN         NaN          NaN          NaN  \n",
       "3         NaN         NaN          NaN          NaN  \n",
       "4         NaN         NaN          NaN          NaN  \n",
       "\n",
       "[5 rows x 22 columns]"
      ]
     },
     "execution_count": 5,
     "metadata": {},
     "output_type": "execute_result"
    }
   ],
   "source": [
    "DataFrame.head()"
   ]
  },
  {
   "cell_type": "code",
   "execution_count": 4,
   "metadata": {},
   "outputs": [
    {
     "data": {
      "text/plain": [
       "<matplotlib.axes._subplots.AxesSubplot at 0x166b78c28c8>"
      ]
     },
     "execution_count": 4,
     "metadata": {},
     "output_type": "execute_result"
    },
    {
     "data": {
      "image/png": "[encoded data removed]",
      "text/plain": [
       "<Figure size 432x288 with 1 Axes>"
      ]
     },
     "metadata": {
      "needs_background": "light"
     },
     "output_type": "display_data"
    }
   ],
   "source": [
    "DataFrame[\"Prioridad\"].value_counts().plot(kind='bar', title='Cantidades por Prioridad de Ventas') #creamos grafico de barra"
   ]
  },
  {
   "cell_type": "code",
   "execution_count": 12,
   "metadata": {},
   "outputs": [
    {
     "data": {
      "text/plain": [
       "<matplotlib.axes._subplots.AxesSubplot at 0x166b8ec1748>"
      ]
     },
     "execution_count": 12,
     "metadata": {},
     "output_type": "execute_result"
    },
    {
     "data": {
      "image/png": "[encoded data removed]",
      "text/plain": [
       "<Figure size 432x288 with 1 Axes>"
      ]
     },
     "metadata": {
      "needs_background": "light"
     },
     "output_type": "display_data"
    }
   ],
   "source": [
    "DataFrame[\"Región\"].value_counts().plot(kind='bar', title='Cantidades de Ventas por region') #creamos grafico de barra"
   ]
  },
  {
   "cell_type": "code",
   "execution_count": 11,
   "metadata": {},
   "outputs": [
    {
     "data": {
      "text/plain": [
       "<matplotlib.axes._subplots.AxesSubplot at 0x166b8e7b688>"
      ]
     },
     "execution_count": 11,
     "metadata": {},
     "output_type": "execute_result"
    },
    {
     "data": {
      "image/png": "[encoded data removed]",
      "text/plain": [
       "<Figure size 432x288 with 1 Axes>"
      ]
     },
     "metadata": {
      "needs_background": "light"
     },
     "output_type": "display_data"
    }
   ],
   "source": [
    "DataFrame[\"Categoría de producto\"].value_counts().plot(kind='bar', title='Cantidades de Ventas por tipo de Productos') #creamos grafico de barra"
   ]
  },
  {
   "cell_type": "code",
   "execution_count": null,
   "metadata": {},
   "outputs": [],
   "source": []
  }
 ],
 "metadata": {
  "kernelspec": {
   "display_name": "Python 3",
   "language": "python",
   "name": "python3"
  },
  "language_info": {
   "codemirror_mode": {
    "name": "ipython",
    "version": 3
   },
   "file_extension": ".py",
   "mimetype": "text/x-python",
   "name": "python",
   "nbconvert_exporter": "python",
   "pygments_lexer": "ipython3",
   "version": "3.7.7"
  }
 },
 "nbformat": 4,
 "nbformat_minor": 4
}

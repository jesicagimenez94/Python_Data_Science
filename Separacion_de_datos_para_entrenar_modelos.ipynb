{
  "nbformat": 4,
  "nbformat_minor": 0,
  "metadata": {
    "colab": {
      "provenance": [],
      "authorship_tag": "ABX9TyNohqQCTn+MxNGDwPrhd4yd",
      "include_colab_link": true
    },
    "kernelspec": {
      "name": "python3",
      "display_name": "Python 3"
    },
    "language_info": {
      "name": "python"
    }
  },
  "cells": [
    {
      "cell_type": "markdown",
      "metadata": {
        "id": "view-in-github",
        "colab_type": "text"
      },
      "source": [
        "<a href=\"https://colab.research.google.com/github/jesicagimenez94/Python_Data_Science/blob/master/Separacion_de_datos_para_entrenar_modelos.ipynb\" target=\"_parent\"><img src=\"https://colab.research.google.com/assets/colab-badge.svg\" alt=\"Open In Colab\"/></a>"
      ]
    },
    {
      "cell_type": "markdown",
      "source": [
        "# **Separacion de datos:**\n",
        "\n",
        "### 60% entrenamiento, 20% validación, 20% prueba"
      ],
      "metadata": {
        "id": "Q_p4XPoJoOVZ"
      }
    },
    {
      "cell_type": "code",
      "execution_count": 11,
      "metadata": {
        "id": "-UMzIIyVV6HH"
      },
      "outputs": [],
      "source": [
        "import pandas as pd\n",
        "from sklearn.model_selection import train_test_split\n",
        "\n",
        "#importo el archivo con los datos que quiero separar\n",
        "pacientes= pd.read_csv(\"/problemas_del_corazon.csv\")\n",
        "\n",
        "#variable objetivo \"cardiaco\" (resto_clase,prueba_clase), los otros datos son para caracterizar las instancias(resto,prueba)\n",
        "#genero un metodo \"train_test_stplit\" que me va a separar de forma aleatoria el 20% de los datos totales para tomarlos como prueba\n",
        "#y el resto me los guarda en una variable en la que despues voy a separar el 60% para entrenamiento y el otro 20% para validacion\n",
        "\n",
        "resto,prueba,resto_clase,prueba_clase= train_test_split(\n",
        "    pacientes[['edad','genero','presion','colesterol','diabetico']],\n",
        "    pacientes['cardiaco'],\n",
        "    test_size= 0.20)\n",
        "\n",
        "#utilizo de nuevo el metodo \"train_test_stplit\" para separar los datos de entrenamiento y validacion\n",
        "entrena,valida,entrena_clase,valida_clase= train_test_split(\n",
        "    resto[['edad','genero','presion','colesterol','diabetico']],\n",
        "    resto_clase,\n",
        "    test_size= 0.25)\n"
      ]
    }
  ]
}
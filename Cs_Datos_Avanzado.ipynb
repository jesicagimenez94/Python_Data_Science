{
 "cells": [
  {
   "cell_type": "code",
   "execution_count": null,
   "metadata": {},
   "outputs": [],
   "source": [
    "#Evaluacion de eficiencia del codigo, diferencia entre el tiempo de finalizacion y el tiempo de inicio.\n",
    "\n",
    "import time\n",
    "\n",
    "start= time.time()\n",
    "\n",
    "#Nuestro codigo\n",
    "time.sleep(0.5)\n",
    "    \n",
    "end= time.time()\n",
    "\n",
    "print(end-start)"
   ]
  },
  {
   "cell_type": "code",
   "execution_count": null,
   "metadata": {},
   "outputs": [],
   "source": [
    "from datetime import timedelta\n",
    "\n",
    "start= time.monotonic()\n",
    "\n",
    "time.sleep(1)\n",
    "\n",
    "end= time.monotonic()\n",
    "\n",
    "print(timedelta(seconds=end-start))"
   ]
  },
  {
   "cell_type": "code",
   "execution_count": null,
   "metadata": {},
   "outputs": [],
   "source": [
    "import pandas as pd\n",
    "\n",
    "#importa base de datos y nrows recorta la cantidad de  datos que devuelve la base\n",
    "\n",
    "df= pd.read_csv('C:/Users/jesica/Desktop/Python_Data_Science/base_datos_2008.csv', nrows=500)\n",
    "\n",
    "df.head()#muestra las 5 primeras \n",
    "df.head(15)#muestra las 15 primeras filas\n",
    "df.tail()#muestra las ultimas filas de la base\n"
   ]
  },
  {
   "cell_type": "code",
   "execution_count": null,
   "metadata": {},
   "outputs": [],
   "source": [
    "#reordenar base de datos\n",
    "\n",
    "df=df.sample(frac =1)# nos guarda el 100% de las filas que tenemos\n",
    "df.columns #nos devuelve nombre de las columnas\n",
    "df.values #devuelve los valores de la base en forma de matriz"
   ]
  },
  {
   "cell_type": "code",
   "execution_count": null,
   "metadata": {},
   "outputs": [],
   "source": [
    "#herramientas de filtrado de informacion\n",
    "df[100:103]"
   ]
  },
  {
   "cell_type": "code",
   "execution_count": null,
   "metadata": {},
   "outputs": [],
   "source": [
    "df[df['ArrDelay']<60].head() #vuelos que se retrasaron menos de una hora"
   ]
  },
  {
   "cell_type": "code",
   "execution_count": null,
   "metadata": {},
   "outputs": [],
   "source": [
    "df[df['ArrDelay']>60].head() #vuelos que se retrasaron mas de una hora"
   ]
  },
  {
   "cell_type": "code",
   "execution_count": null,
   "metadata": {},
   "outputs": [],
   "source": [
    "#agrega columna nueva a la base\n",
    "df[\"HoursDelay\"]=round(df[\"ArrDelay\"]/60)\n",
    "df[\"HoursDelay\"].head()"
   ]
  },
  {
   "cell_type": "code",
   "execution_count": null,
   "metadata": {},
   "outputs": [],
   "source": []
  }
 ],
 "metadata": {
  "kernelspec": {
   "display_name": "Python 3",
   "language": "python",
   "name": "python3"
  },
  "language_info": {
   "codemirror_mode": {
    "name": "ipython",
    "version": 3
   },
   "file_extension": ".py",
   "mimetype": "text/x-python",
   "name": "python",
   "nbconvert_exporter": "python",
   "pygments_lexer": "ipython3",
   "version": "3.7.7"
  }
 },
 "nbformat": 4,
 "nbformat_minor": 4
}
